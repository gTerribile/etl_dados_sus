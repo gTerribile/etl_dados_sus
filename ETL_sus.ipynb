{
 "cells": [
  {
   "cell_type": "markdown",
   "id": "3ce3008f",
   "metadata": {
    "papermill": {
     "duration": 0.008322,
     "end_time": "2024-02-04T01:59:14.417237",
     "exception": false,
     "start_time": "2024-02-04T01:59:14.408915",
     "status": "completed"
    },
    "tags": []
   },
   "source": [
    "## Base de nascidos vivos do DataSUS\n",
    "O DataSUS disponibiliza diversos arquivos de dados com relação a seus segurados, conforme a [lei da transparência de informações públicas](https://www.sisgov.com/transparencia-acesso-informacao/#:~:text=A%20Lei%20da%20Transpar%C3%AAncia%20(LC,em%20um%20site%20na%20internet.). \n",
    "\n",
    "Essas informações podem ser obtidas pela internet [aqui](http://www2.datasus.gov.br/DATASUS/index.php?area=0901&item=1). \n",
    "\n",
    "### Nosso objetivo\n",
    "Queremos deixar uma base organizada para podermos estudar a relação entre partos com risco para o bebê e algumas condições como tempo de parto, consultas de pré-natal etc."
   ]
  },
  {
   "cell_type": "code",
   "execution_count": 1,
   "id": "6e4f4bed",
   "metadata": {
    "execution": {
     "iopub.execute_input": "2024-02-04T01:59:14.435025Z",
     "iopub.status.busy": "2024-02-04T01:59:14.434298Z",
     "iopub.status.idle": "2024-02-04T01:59:15.730009Z",
     "shell.execute_reply": "2024-02-04T01:59:15.728682Z"
    },
    "papermill": {
     "duration": 1.30714,
     "end_time": "2024-02-04T01:59:15.732182",
     "exception": false,
     "start_time": "2024-02-04T01:59:14.425042",
     "status": "completed"
    },
    "tags": []
   },
   "outputs": [
    {
     "name": "stdout",
     "output_type": "stream",
     "text": [
      "(27028, 69)\n"
     ]
    },
    {
     "data": {
      "text/plain": [
       "(27028, 69)"
      ]
     },
     "execution_count": 1,
     "metadata": {},
     "output_type": "execute_result"
    }
   ],
   "source": [
    "import pandas as pd\n",
    "import requests\n",
    "\n",
    "df = pd.read_csv('SINASC_RO_2019.csv')\n",
    "print(df.shape)\n",
    "df.drop_duplicates().shape\n",
    "\n",
    "# Não há duplicados"
   ]
  },
  {
   "cell_type": "code",
   "execution_count": 2,
   "id": "bfd62f4c",
   "metadata": {
    "execution": {
     "iopub.execute_input": "2024-02-04T01:59:15.751562Z",
     "iopub.status.busy": "2024-02-04T01:59:15.751170Z",
     "iopub.status.idle": "2024-02-04T01:59:15.776636Z",
     "shell.execute_reply": "2024-02-04T01:59:15.775559Z"
    },
    "papermill": {
     "duration": 0.038089,
     "end_time": "2024-02-04T01:59:15.779198",
     "exception": false,
     "start_time": "2024-02-04T01:59:15.741109",
     "status": "completed"
    },
    "tags": []
   },
   "outputs": [
    {
     "data": {
      "text/plain": [
       "ORIGEM              0\n",
       "CODESTAB          115\n",
       "CODMUNNASC          0\n",
       "LOCNASC             0\n",
       "IDADEMAE            0\n",
       "ESTCIVMAE         317\n",
       "ESCMAE            312\n",
       "CODOCUPMAE       2907\n",
       "QTDFILVIVO       1573\n",
       "QTDFILMORT       2098\n",
       "CODMUNRES           0\n",
       "GESTACAO         1232\n",
       "GRAVIDEZ           79\n",
       "PARTO              49\n",
       "CONSULTAS           0\n",
       "DTNASC              0\n",
       "HORANASC           21\n",
       "SEXO                4\n",
       "APGAR1             96\n",
       "APGAR5            103\n",
       "RACACOR           647\n",
       "PESO                0\n",
       "IDANOMAL          591\n",
       "DTCADASTRO          0\n",
       "CODANOMAL       26814\n",
       "NUMEROLOTE          0\n",
       "VERSAOSIST          0\n",
       "DTRECEBIM           0\n",
       "DIFDATA             0\n",
       "DTRECORIGA      27028\n",
       "NATURALMAE        298\n",
       "CODMUNNATU        298\n",
       "CODUFNATU         298\n",
       "ESCMAE2010        249\n",
       "SERIESCMAE      12710\n",
       "DTNASCMAE          40\n",
       "RACACORMAE        661\n",
       "QTDGESTANT       1212\n",
       "QTDPARTNOR       1879\n",
       "QTDPARTCES       1791\n",
       "IDADEPAI        19421\n",
       "DTULTMENST      10072\n",
       "SEMAGESTAC       1238\n",
       "TPMETESTIM       1238\n",
       "CONSPRENAT        930\n",
       "MESPRENAT        2867\n",
       "TPAPRESENT        265\n",
       "STTRABPART        947\n",
       "STCESPARTO        747\n",
       "TPNASCASSI         61\n",
       "TPFUNCRESP         67\n",
       "TPDOCRESP          14\n",
       "DTDECLARAC         52\n",
       "ESCMAEAGR1        249\n",
       "STDNEPIDEM          0\n",
       "STDNNOVA            0\n",
       "CODPAISRES          0\n",
       "TPROBSON            0\n",
       "PARIDADE            0\n",
       "KOTELCHUCK          0\n",
       "CONTADOR            0\n",
       "munResStatus        0\n",
       "munResTipo          0\n",
       "munResNome          0\n",
       "munResUf            0\n",
       "munResLat           1\n",
       "munResLon           1\n",
       "munResAlt           1\n",
       "munResArea          1\n",
       "dtype: int64"
      ]
     },
     "execution_count": 2,
     "metadata": {},
     "output_type": "execute_result"
    }
   ],
   "source": [
    "# Conte o número de valores missing por variável.\n",
    "\n",
    "pd.set_option('display.max_rows', 69) #alterando quantidade de itens que são exibidos pelo Pandas\n",
    "\n",
    "df.isna().sum() # somando os itens de cada coluna que tem dados ausentes"
   ]
  },
  {
   "cell_type": "code",
   "execution_count": 3,
   "id": "c335f124",
   "metadata": {
    "execution": {
     "iopub.execute_input": "2024-02-04T01:59:15.798290Z",
     "iopub.status.busy": "2024-02-04T01:59:15.797866Z",
     "iopub.status.idle": "2024-02-04T01:59:15.803258Z",
     "shell.execute_reply": "2024-02-04T01:59:15.802180Z"
    },
    "papermill": {
     "duration": 0.017435,
     "end_time": "2024-02-04T01:59:15.804995",
     "exception": false,
     "start_time": "2024-02-04T01:59:15.787560",
     "status": "completed"
    },
    "tags": []
   },
   "outputs": [],
   "source": [
    "pd.reset_option('display.max_rows') # retornando configuração padrão"
   ]
  },
  {
   "cell_type": "code",
   "execution_count": 4,
   "id": "f21d907a",
   "metadata": {
    "execution": {
     "iopub.execute_input": "2024-02-04T01:59:15.822423Z",
     "iopub.status.busy": "2024-02-04T01:59:15.822072Z",
     "iopub.status.idle": "2024-02-04T01:59:15.849495Z",
     "shell.execute_reply": "2024-02-04T01:59:15.848376Z"
    },
    "papermill": {
     "duration": 0.038711,
     "end_time": "2024-02-04T01:59:15.851638",
     "exception": false,
     "start_time": "2024-02-04T01:59:15.812927",
     "status": "completed"
    },
    "tags": []
   },
   "outputs": [
    {
     "data": {
      "text/html": [
       "<div>\n",
       "<style scoped>\n",
       "    .dataframe tbody tr th:only-of-type {\n",
       "        vertical-align: middle;\n",
       "    }\n",
       "\n",
       "    .dataframe tbody tr th {\n",
       "        vertical-align: top;\n",
       "    }\n",
       "\n",
       "    .dataframe thead th {\n",
       "        text-align: right;\n",
       "    }\n",
       "</style>\n",
       "<table border=\"1\" class=\"dataframe\">\n",
       "  <thead>\n",
       "    <tr style=\"text-align: right;\">\n",
       "      <th></th>\n",
       "      <th>LOCNASC</th>\n",
       "      <th>IDADEMAE</th>\n",
       "      <th>ESTCIVMAE</th>\n",
       "      <th>ESCMAE</th>\n",
       "      <th>QTDFILVIVO</th>\n",
       "      <th>GESTACAO</th>\n",
       "      <th>GRAVIDEZ</th>\n",
       "      <th>CONSULTAS</th>\n",
       "      <th>APGAR5</th>\n",
       "    </tr>\n",
       "  </thead>\n",
       "  <tbody>\n",
       "    <tr>\n",
       "      <th>0</th>\n",
       "      <td>1</td>\n",
       "      <td>19</td>\n",
       "      <td>5.0</td>\n",
       "      <td>8 a 11 anos</td>\n",
       "      <td>0.0</td>\n",
       "      <td>37 a 41 semanas</td>\n",
       "      <td>Única</td>\n",
       "      <td>4</td>\n",
       "      <td>10.0</td>\n",
       "    </tr>\n",
       "    <tr>\n",
       "      <th>1</th>\n",
       "      <td>1</td>\n",
       "      <td>29</td>\n",
       "      <td>2.0</td>\n",
       "      <td>8 a 11 anos</td>\n",
       "      <td>1.0</td>\n",
       "      <td>37 a 41 semanas</td>\n",
       "      <td>Única</td>\n",
       "      <td>4</td>\n",
       "      <td>9.0</td>\n",
       "    </tr>\n",
       "  </tbody>\n",
       "</table>\n",
       "</div>"
      ],
      "text/plain": [
       "   LOCNASC  IDADEMAE  ESTCIVMAE       ESCMAE  QTDFILVIVO         GESTACAO  \\\n",
       "0        1        19        5.0  8 a 11 anos         0.0  37 a 41 semanas   \n",
       "1        1        29        2.0  8 a 11 anos         1.0  37 a 41 semanas   \n",
       "\n",
       "  GRAVIDEZ  CONSULTAS  APGAR5  \n",
       "0    Única          4    10.0  \n",
       "1    Única          4     9.0  "
      ]
     },
     "execution_count": 4,
     "metadata": {},
     "output_type": "execute_result"
    }
   ],
   "source": [
    "#colunas a serem analisadas\n",
    "colunas_analise = ['LOCNASC', 'IDADEMAE', 'ESTCIVMAE', 'ESCMAE', 'QTDFILVIVO', 'GESTACAO', 'GRAVIDEZ', 'CONSULTAS', 'APGAR5'] \n",
    "\n",
    "#criando um novo DataFrame somente com as colunas que serem analisadas\n",
    "df_analise = df[colunas_analise].copy()\n",
    "\n",
    "df_analise.head(2)                "
   ]
  },
  {
   "cell_type": "code",
   "execution_count": 5,
   "id": "dbb997b2",
   "metadata": {
    "execution": {
     "iopub.execute_input": "2024-02-04T01:59:15.872119Z",
     "iopub.status.busy": "2024-02-04T01:59:15.870722Z",
     "iopub.status.idle": "2024-02-04T01:59:15.880114Z",
     "shell.execute_reply": "2024-02-04T01:59:15.878170Z"
    },
    "papermill": {
     "duration": 0.023055,
     "end_time": "2024-02-04T01:59:15.883600",
     "exception": false,
     "start_time": "2024-02-04T01:59:15.860545",
     "status": "completed"
    },
    "tags": []
   },
   "outputs": [
    {
     "data": {
      "text/plain": [
       "103"
      ]
     },
     "execution_count": 5,
     "metadata": {},
     "output_type": "execute_result"
    }
   ],
   "source": [
    "# Quantidade de linhas com a coluna 'APGAR5' com dado ausente\n",
    "df_analise['APGAR5'].isna().sum()"
   ]
  },
  {
   "cell_type": "code",
   "execution_count": 6,
   "id": "d6eefcdb",
   "metadata": {
    "execution": {
     "iopub.execute_input": "2024-02-04T01:59:15.902766Z",
     "iopub.status.busy": "2024-02-04T01:59:15.902364Z",
     "iopub.status.idle": "2024-02-04T01:59:15.908957Z",
     "shell.execute_reply": "2024-02-04T01:59:15.907916Z"
    },
    "papermill": {
     "duration": 0.018189,
     "end_time": "2024-02-04T01:59:15.910726",
     "exception": false,
     "start_time": "2024-02-04T01:59:15.892537",
     "status": "completed"
    },
    "tags": []
   },
   "outputs": [
    {
     "data": {
      "text/plain": [
       "(27028, 9)"
      ]
     },
     "execution_count": 6,
     "metadata": {},
     "output_type": "execute_result"
    }
   ],
   "source": [
    "# Quantidade de linhas no DataFrame\n",
    "df_analise.shape"
   ]
  },
  {
   "cell_type": "code",
   "execution_count": 7,
   "id": "028aebe0",
   "metadata": {
    "execution": {
     "iopub.execute_input": "2024-02-04T01:59:15.930456Z",
     "iopub.status.busy": "2024-02-04T01:59:15.930060Z",
     "iopub.status.idle": "2024-02-04T01:59:15.941987Z",
     "shell.execute_reply": "2024-02-04T01:59:15.940996Z"
    },
    "papermill": {
     "duration": 0.024369,
     "end_time": "2024-02-04T01:59:15.943931",
     "exception": false,
     "start_time": "2024-02-04T01:59:15.919562",
     "status": "completed"
    },
    "tags": []
   },
   "outputs": [
    {
     "data": {
      "text/plain": [
       "LOCNASC          0\n",
       "IDADEMAE         0\n",
       "ESTCIVMAE      317\n",
       "ESCMAE         312\n",
       "QTDFILVIVO    1573\n",
       "GESTACAO      1232\n",
       "GRAVIDEZ        79\n",
       "CONSULTAS        0\n",
       "APGAR5         103\n",
       "dtype: int64"
      ]
     },
     "execution_count": 7,
     "metadata": {},
     "output_type": "execute_result"
    }
   ],
   "source": [
    "# Quantidade de dados ausentes em cada coluna\n",
    "df_analise.isna().sum()"
   ]
  },
  {
   "cell_type": "code",
   "execution_count": 8,
   "id": "346ab45f",
   "metadata": {
    "execution": {
     "iopub.execute_input": "2024-02-04T01:59:15.963408Z",
     "iopub.status.busy": "2024-02-04T01:59:15.963042Z",
     "iopub.status.idle": "2024-02-04T01:59:15.972165Z",
     "shell.execute_reply": "2024-02-04T01:59:15.971208Z"
    },
    "papermill": {
     "duration": 0.020616,
     "end_time": "2024-02-04T01:59:15.973928",
     "exception": false,
     "start_time": "2024-02-04T01:59:15.953312",
     "status": "completed"
    },
    "tags": []
   },
   "outputs": [],
   "source": [
    "# Retirando todas as linhas com a variável resposta sem estar respondida\n",
    "df_analise = df_analise.dropna(subset=['APGAR5'])"
   ]
  },
  {
   "cell_type": "code",
   "execution_count": 9,
   "id": "82285257",
   "metadata": {
    "execution": {
     "iopub.execute_input": "2024-02-04T01:59:15.993322Z",
     "iopub.status.busy": "2024-02-04T01:59:15.992890Z",
     "iopub.status.idle": "2024-02-04T01:59:16.006455Z",
     "shell.execute_reply": "2024-02-04T01:59:16.005181Z"
    },
    "papermill": {
     "duration": 0.025721,
     "end_time": "2024-02-04T01:59:16.008423",
     "exception": false,
     "start_time": "2024-02-04T01:59:15.982702",
     "status": "completed"
    },
    "tags": []
   },
   "outputs": [
    {
     "data": {
      "text/plain": [
       "LOCNASC          0\n",
       "IDADEMAE         0\n",
       "ESTCIVMAE      315\n",
       "ESCMAE         310\n",
       "QTDFILVIVO    1566\n",
       "GESTACAO      1216\n",
       "GRAVIDEZ        76\n",
       "CONSULTAS        0\n",
       "APGAR5           0\n",
       "dtype: int64"
      ]
     },
     "execution_count": 9,
     "metadata": {},
     "output_type": "execute_result"
    }
   ],
   "source": [
    "# Quantidade de dados ausentes\n",
    "df_analise.isna().sum()"
   ]
  },
  {
   "cell_type": "code",
   "execution_count": 10,
   "id": "6f65936c",
   "metadata": {
    "execution": {
     "iopub.execute_input": "2024-02-04T01:59:16.027887Z",
     "iopub.status.busy": "2024-02-04T01:59:16.027528Z",
     "iopub.status.idle": "2024-02-04T01:59:16.031842Z",
     "shell.execute_reply": "2024-02-04T01:59:16.031146Z"
    },
    "papermill": {
     "duration": 0.016168,
     "end_time": "2024-02-04T01:59:16.033526",
     "exception": false,
     "start_time": "2024-02-04T01:59:16.017358",
     "status": "completed"
    },
    "tags": []
   },
   "outputs": [
    {
     "name": "stdout",
     "output_type": "stream",
     "text": [
      "26925\n",
      "(26925, 9)\n"
     ]
    }
   ],
   "source": [
    "print(27028 - 103)\n",
    "print(df_analise.shape)"
   ]
  },
  {
   "cell_type": "code",
   "execution_count": 11,
   "id": "67f31508",
   "metadata": {
    "execution": {
     "iopub.execute_input": "2024-02-04T01:59:16.053465Z",
     "iopub.status.busy": "2024-02-04T01:59:16.053068Z",
     "iopub.status.idle": "2024-02-04T01:59:16.063244Z",
     "shell.execute_reply": "2024-02-04T01:59:16.062440Z"
    },
    "papermill": {
     "duration": 0.022164,
     "end_time": "2024-02-04T01:59:16.064899",
     "exception": false,
     "start_time": "2024-02-04T01:59:16.042735",
     "status": "completed"
    },
    "tags": []
   },
   "outputs": [
    {
     "data": {
      "text/plain": [
       "array([ 5.,  2.,  9.,  1.,  4., nan,  3.])"
      ]
     },
     "execution_count": 11,
     "metadata": {},
     "output_type": "execute_result"
    }
   ],
   "source": [
    "# Dados únicos na coluna 'ESTCIVMAE'\n",
    "df_analise['ESTCIVMAE'].unique()"
   ]
  },
  {
   "cell_type": "code",
   "execution_count": 12,
   "id": "e118b8d9",
   "metadata": {
    "execution": {
     "iopub.execute_input": "2024-02-04T01:59:16.084668Z",
     "iopub.status.busy": "2024-02-04T01:59:16.084254Z",
     "iopub.status.idle": "2024-02-04T01:59:16.090859Z",
     "shell.execute_reply": "2024-02-04T01:59:16.090012Z"
    },
    "papermill": {
     "duration": 0.018322,
     "end_time": "2024-02-04T01:59:16.092468",
     "exception": false,
     "start_time": "2024-02-04T01:59:16.074146",
     "status": "completed"
    },
    "tags": []
   },
   "outputs": [
    {
     "data": {
      "text/plain": [
       "array([4, 3, 2, 1, 9], dtype=int64)"
      ]
     },
     "execution_count": 12,
     "metadata": {},
     "output_type": "execute_result"
    }
   ],
   "source": [
    "# Dados únicos na coluna 'CONSULTAS'\n",
    "df_analise['CONSULTAS'].unique()"
   ]
  },
  {
   "cell_type": "code",
   "execution_count": 13,
   "id": "6fd891cf",
   "metadata": {
    "execution": {
     "iopub.execute_input": "2024-02-04T01:59:16.111924Z",
     "iopub.status.busy": "2024-02-04T01:59:16.111471Z",
     "iopub.status.idle": "2024-02-04T01:59:16.118012Z",
     "shell.execute_reply": "2024-02-04T01:59:16.117168Z"
    },
    "papermill": {
     "duration": 0.018322,
     "end_time": "2024-02-04T01:59:16.119590",
     "exception": false,
     "start_time": "2024-02-04T01:59:16.101268",
     "status": "completed"
    },
    "tags": []
   },
   "outputs": [],
   "source": [
    "# preenchendo com 9.0 os dados ausentes na coluna 'ESTCIVMAE'\n",
    "df_analise['ESTCIVMAE'].fillna(9.0, inplace=True)"
   ]
  },
  {
   "cell_type": "code",
   "execution_count": 14,
   "id": "b06cfb8b",
   "metadata": {
    "execution": {
     "iopub.execute_input": "2024-02-04T01:59:16.139160Z",
     "iopub.status.busy": "2024-02-04T01:59:16.138752Z",
     "iopub.status.idle": "2024-02-04T01:59:16.146262Z",
     "shell.execute_reply": "2024-02-04T01:59:16.145073Z"
    },
    "papermill": {
     "duration": 0.019567,
     "end_time": "2024-02-04T01:59:16.148103",
     "exception": false,
     "start_time": "2024-02-04T01:59:16.128536",
     "status": "completed"
    },
    "tags": []
   },
   "outputs": [
    {
     "name": "stdout",
     "output_type": "stream",
     "text": [
      "[5. 2. 9. 1. 4. 3.]\n",
      "0\n"
     ]
    }
   ],
   "source": [
    "# Verificação\n",
    "print(df_analise['ESTCIVMAE'].unique())\n",
    "print(df_analise['ESTCIVMAE'].isnull().sum())"
   ]
  },
  {
   "cell_type": "code",
   "execution_count": 15,
   "id": "7a980b5f",
   "metadata": {
    "execution": {
     "iopub.execute_input": "2024-02-04T01:59:16.168125Z",
     "iopub.status.busy": "2024-02-04T01:59:16.167768Z",
     "iopub.status.idle": "2024-02-04T01:59:16.175058Z",
     "shell.execute_reply": "2024-02-04T01:59:16.174222Z"
    },
    "papermill": {
     "duration": 0.018961,
     "end_time": "2024-02-04T01:59:16.176615",
     "exception": false,
     "start_time": "2024-02-04T01:59:16.157654",
     "status": "completed"
    },
    "tags": []
   },
   "outputs": [
    {
     "data": {
      "text/plain": [
       "array([ 0.,  1.,  2.,  3., nan,  4.,  6.,  5.,  7., 12.,  9., 11.,  8.,\n",
       "       30., 10., 14.])"
      ]
     },
     "execution_count": 15,
     "metadata": {},
     "output_type": "execute_result"
    }
   ],
   "source": [
    "# Substitua os valores faltantes da quantitativa (QTDFILVIVO) por zero.\n",
    "\n",
    "df_analise['QTDFILVIVO'].unique()"
   ]
  },
  {
   "cell_type": "code",
   "execution_count": 16,
   "id": "530bd36b",
   "metadata": {
    "execution": {
     "iopub.execute_input": "2024-02-04T01:59:16.197436Z",
     "iopub.status.busy": "2024-02-04T01:59:16.196639Z",
     "iopub.status.idle": "2024-02-04T01:59:16.202832Z",
     "shell.execute_reply": "2024-02-04T01:59:16.201743Z"
    },
    "papermill": {
     "duration": 0.01838,
     "end_time": "2024-02-04T01:59:16.204316",
     "exception": false,
     "start_time": "2024-02-04T01:59:16.185936",
     "status": "completed"
    },
    "tags": []
   },
   "outputs": [],
   "source": [
    "# preenchendo com 0.0 os dados ausentes na coluna 'QTDFILVIVO'\n",
    "df_analise['QTDFILVIVO'].fillna(0.0, inplace=True)"
   ]
  },
  {
   "cell_type": "code",
   "execution_count": 17,
   "id": "835a0428",
   "metadata": {
    "execution": {
     "iopub.execute_input": "2024-02-04T01:59:16.223880Z",
     "iopub.status.busy": "2024-02-04T01:59:16.223525Z",
     "iopub.status.idle": "2024-02-04T01:59:16.229320Z",
     "shell.execute_reply": "2024-02-04T01:59:16.228567Z"
    },
    "papermill": {
     "duration": 0.017403,
     "end_time": "2024-02-04T01:59:16.230878",
     "exception": false,
     "start_time": "2024-02-04T01:59:16.213475",
     "status": "completed"
    },
    "tags": []
   },
   "outputs": [
    {
     "data": {
      "text/plain": [
       "array([ 0.,  1.,  2.,  3.,  4.,  6.,  5.,  7., 12.,  9., 11.,  8., 30.,\n",
       "       10., 14.])"
      ]
     },
     "execution_count": 17,
     "metadata": {},
     "output_type": "execute_result"
    }
   ],
   "source": [
    "# Verificação\n",
    "df_analise['QTDFILVIVO'].unique()"
   ]
  },
  {
   "cell_type": "code",
   "execution_count": 18,
   "id": "1809b539",
   "metadata": {
    "execution": {
     "iopub.execute_input": "2024-02-04T01:59:16.250982Z",
     "iopub.status.busy": "2024-02-04T01:59:16.250618Z",
     "iopub.status.idle": "2024-02-04T01:59:16.260362Z",
     "shell.execute_reply": "2024-02-04T01:59:16.259571Z"
    },
    "papermill": {
     "duration": 0.022151,
     "end_time": "2024-02-04T01:59:16.262222",
     "exception": false,
     "start_time": "2024-02-04T01:59:16.240071",
     "status": "completed"
    },
    "tags": []
   },
   "outputs": [
    {
     "data": {
      "text/plain": [
       "LOCNASC          0\n",
       "IDADEMAE         0\n",
       "ESTCIVMAE        0\n",
       "ESCMAE         310\n",
       "QTDFILVIVO       0\n",
       "GESTACAO      1216\n",
       "GRAVIDEZ        76\n",
       "CONSULTAS        0\n",
       "APGAR5           0\n",
       "dtype: int64"
      ]
     },
     "execution_count": 18,
     "metadata": {},
     "output_type": "execute_result"
    }
   ],
   "source": [
    "df_analise.isna().sum()"
   ]
  },
  {
   "cell_type": "markdown",
   "id": "62f48db6",
   "metadata": {
    "papermill": {
     "duration": 0.009785,
     "end_time": "2024-02-04T01:59:16.282222",
     "exception": false,
     "start_time": "2024-02-04T01:59:16.272437",
     "status": "completed"
    },
    "tags": []
   },
   "source": [
    "Variáveis que permanecem com valores nulos:\n",
    "- ESCMAE (Escolaridade, anos de estudo concluídos) \n",
    "- GESTACAO (Semanas de gestação)\n",
    "- GRAVIDEZ (Tipo de gravidez: Única, Dupla, Trípla e mais)"
   ]
  },
  {
   "cell_type": "markdown",
   "id": "65335234",
   "metadata": {
    "papermill": {
     "duration": 0.009352,
     "end_time": "2024-02-04T01:59:16.301560",
     "exception": false,
     "start_time": "2024-02-04T01:59:16.292208",
     "status": "completed"
    },
    "tags": []
   },
   "source": [
    "### Análise da coluna \"ESCMAE\""
   ]
  },
  {
   "cell_type": "code",
   "execution_count": 19,
   "id": "2bd82bd0",
   "metadata": {
    "execution": {
     "iopub.execute_input": "2024-02-04T01:59:16.322832Z",
     "iopub.status.busy": "2024-02-04T01:59:16.322426Z",
     "iopub.status.idle": "2024-02-04T01:59:16.334454Z",
     "shell.execute_reply": "2024-02-04T01:59:16.333072Z"
    },
    "papermill": {
     "duration": 0.02494,
     "end_time": "2024-02-04T01:59:16.336326",
     "exception": false,
     "start_time": "2024-02-04T01:59:16.311386",
     "status": "completed"
    },
    "tags": []
   },
   "outputs": [
    {
     "data": {
      "text/plain": [
       "8 a 11 anos        15581\n",
       "12 anos ou mais     5757\n",
       "4 a 7 anos          4727\n",
       "1 a 3 anos           510\n",
       "Nenhuma               40\n",
       "Name: ESCMAE, dtype: int64"
      ]
     },
     "execution_count": 19,
     "metadata": {},
     "output_type": "execute_result"
    }
   ],
   "source": [
    "# distribuição dos dados na coluna 'ESCMAE'\n",
    "df_analise['ESCMAE'].value_counts()"
   ]
  },
  {
   "cell_type": "code",
   "execution_count": 20,
   "id": "11d92eb8",
   "metadata": {
    "execution": {
     "iopub.execute_input": "2024-02-04T01:59:16.358253Z",
     "iopub.status.busy": "2024-02-04T01:59:16.357885Z",
     "iopub.status.idle": "2024-02-04T01:59:16.362300Z",
     "shell.execute_reply": "2024-02-04T01:59:16.361548Z"
    },
    "papermill": {
     "duration": 0.017615,
     "end_time": "2024-02-04T01:59:16.364039",
     "exception": false,
     "start_time": "2024-02-04T01:59:16.346424",
     "status": "completed"
    },
    "tags": []
   },
   "outputs": [
    {
     "name": "stdout",
     "output_type": "stream",
     "text": [
      "57.86815227483751\n",
      "1.1513463324048283\n"
     ]
    }
   ],
   "source": [
    "print(15581 / 26925 * 100)\n",
    "print(310 / 26925 * 100)"
   ]
  },
  {
   "cell_type": "markdown",
   "id": "89b1794e",
   "metadata": {
    "papermill": {
     "duration": 0.009883,
     "end_time": "2024-02-04T01:59:16.384043",
     "exception": false,
     "start_time": "2024-02-04T01:59:16.374160",
     "status": "completed"
    },
    "tags": []
   },
   "source": [
    "- Conforme informações do IBGE 2022 \"https://educa.ibge.gov.br/jovens/conheca-o-brasil/populacao/18317-educacao.html\", \n",
    "53% das pessoas com 25 anos ou mais de idade possuim no mínimo o ensino médio completo.\n",
    "Em nossa base de dados, 8 a 11 anos de escolaridade se refere no mínimo que a pessoa finalizou o ensino fundamental.\n",
    "- Sendo assim assim, nossa base de dados está coerente com os dados do censo.\n",
    "- Os dados nulos esta coluna se refere somente a 1%\n",
    "- Iremos considerar os dados nulos como \"8 a 11 anos\"\n"
   ]
  },
  {
   "cell_type": "markdown",
   "id": "17ec4ff6",
   "metadata": {
    "papermill": {
     "duration": 0.009959,
     "end_time": "2024-02-04T01:59:16.404181",
     "exception": false,
     "start_time": "2024-02-04T01:59:16.394222",
     "status": "completed"
    },
    "tags": []
   },
   "source": [
    "### Análise da coluna \"GESTACAO\""
   ]
  },
  {
   "cell_type": "code",
   "execution_count": 21,
   "id": "3c452160",
   "metadata": {
    "execution": {
     "iopub.execute_input": "2024-02-04T01:59:16.425702Z",
     "iopub.status.busy": "2024-02-04T01:59:16.425335Z",
     "iopub.status.idle": "2024-02-04T01:59:16.433725Z",
     "shell.execute_reply": "2024-02-04T01:59:16.432963Z"
    },
    "papermill": {
     "duration": 0.021183,
     "end_time": "2024-02-04T01:59:16.435231",
     "exception": false,
     "start_time": "2024-02-04T01:59:16.414048",
     "status": "completed"
    },
    "tags": []
   },
   "outputs": [
    {
     "data": {
      "text/plain": [
       "37 a 41 semanas        22523\n",
       "32 a 36 semanas         2234\n",
       "42 semanas e mais        698\n",
       "28 a 31 semanas          162\n",
       "22 a 27 semanas           85\n",
       "Menos de 22 semanas        7\n",
       "Name: GESTACAO, dtype: int64"
      ]
     },
     "execution_count": 21,
     "metadata": {},
     "output_type": "execute_result"
    }
   ],
   "source": [
    "# distribuição dos dados na coluna 'GESTACAO'\n",
    "df_analise['GESTACAO'].value_counts()"
   ]
  },
  {
   "cell_type": "code",
   "execution_count": 22,
   "id": "aa7d70f3",
   "metadata": {
    "execution": {
     "iopub.execute_input": "2024-02-04T01:59:16.534946Z",
     "iopub.status.busy": "2024-02-04T01:59:16.534549Z",
     "iopub.status.idle": "2024-02-04T01:59:16.542417Z",
     "shell.execute_reply": "2024-02-04T01:59:16.541769Z"
    },
    "papermill": {
     "duration": 0.021457,
     "end_time": "2024-02-04T01:59:16.544192",
     "exception": false,
     "start_time": "2024-02-04T01:59:16.522735",
     "status": "completed"
    },
    "tags": []
   },
   "outputs": [
    {
     "data": {
      "text/plain": [
       "25709"
      ]
     },
     "execution_count": 22,
     "metadata": {},
     "output_type": "execute_result"
    }
   ],
   "source": [
    "df_analise['GESTACAO'].value_counts().sum()"
   ]
  },
  {
   "cell_type": "code",
   "execution_count": 23,
   "id": "706415c2",
   "metadata": {
    "execution": {
     "iopub.execute_input": "2024-02-04T01:59:16.566765Z",
     "iopub.status.busy": "2024-02-04T01:59:16.566368Z",
     "iopub.status.idle": "2024-02-04T01:59:16.571012Z",
     "shell.execute_reply": "2024-02-04T01:59:16.570221Z"
    },
    "papermill": {
     "duration": 0.018057,
     "end_time": "2024-02-04T01:59:16.572712",
     "exception": false,
     "start_time": "2024-02-04T01:59:16.554655",
     "status": "completed"
    },
    "tags": []
   },
   "outputs": [
    {
     "name": "stdout",
     "output_type": "stream",
     "text": [
      "83.65088207985144\n",
      "4.516248839368616\n"
     ]
    }
   ],
   "source": [
    "print(22523 / 26925 * 100)\n",
    "# neste base de dados, gravidez com 37 a 41 semanas corresponde a 83% \n",
    "print(1216 / 26925 * 100)\n",
    "# neste base de dados, dados nulos nesta coluna corresponde a 4% "
   ]
  },
  {
   "cell_type": "markdown",
   "id": "508d222d",
   "metadata": {
    "papermill": {
     "duration": 0.010007,
     "end_time": "2024-02-04T01:59:16.593333",
     "exception": false,
     "start_time": "2024-02-04T01:59:16.583326",
     "status": "completed"
    },
    "tags": []
   },
   "source": [
    "**Uma gestação \"normal\" denominado tecnicamente de \"a termo\", tem um período de 37 a 41 semanas. \n",
    "Iremos considerar dados nulos sendo \"37 a 41 semanas\".**"
   ]
  },
  {
   "cell_type": "markdown",
   "id": "a5702c10",
   "metadata": {
    "papermill": {
     "duration": 0.009828,
     "end_time": "2024-02-04T01:59:16.613543",
     "exception": false,
     "start_time": "2024-02-04T01:59:16.603715",
     "status": "completed"
    },
    "tags": []
   },
   "source": [
    "### Análise da coluna \"GRAVIDEZ\""
   ]
  },
  {
   "cell_type": "code",
   "execution_count": 24,
   "id": "c8641af3",
   "metadata": {
    "execution": {
     "iopub.execute_input": "2024-02-04T01:59:16.636347Z",
     "iopub.status.busy": "2024-02-04T01:59:16.635944Z",
     "iopub.status.idle": "2024-02-04T01:59:16.644503Z",
     "shell.execute_reply": "2024-02-04T01:59:16.643728Z"
    },
    "papermill": {
     "duration": 0.022352,
     "end_time": "2024-02-04T01:59:16.646388",
     "exception": false,
     "start_time": "2024-02-04T01:59:16.624036",
     "status": "completed"
    },
    "tags": []
   },
   "outputs": [
    {
     "data": {
      "text/plain": [
       "Única              26356\n",
       "Dupla                488\n",
       "Tríplice e mais        5\n",
       "Name: GRAVIDEZ, dtype: int64"
      ]
     },
     "execution_count": 24,
     "metadata": {},
     "output_type": "execute_result"
    }
   ],
   "source": [
    "# distribuição dos dados na coluna 'GRAVIDEZ'\n",
    "df_analise['GRAVIDEZ'].value_counts()"
   ]
  },
  {
   "cell_type": "markdown",
   "id": "43cdea28",
   "metadata": {
    "papermill": {
     "duration": 0.010077,
     "end_time": "2024-02-04T01:59:16.667072",
     "exception": false,
     "start_time": "2024-02-04T01:59:16.656995",
     "status": "completed"
    },
    "tags": []
   },
   "source": [
    "**Iremos considerar que os dados nulos são referente à gravidez única, pois é raro uma mulher ter uma gravidez de gêmeos, seja monozigóticos ou dizigóticos.**"
   ]
  },
  {
   "cell_type": "markdown",
   "id": "05d6d1cf",
   "metadata": {
    "papermill": {
     "duration": 0.00998,
     "end_time": "2024-02-04T01:59:16.687404",
     "exception": false,
     "start_time": "2024-02-04T01:59:16.677424",
     "status": "completed"
    },
    "tags": []
   },
   "source": [
    "---> Limpeza dos dados"
   ]
  },
  {
   "cell_type": "code",
   "execution_count": 25,
   "id": "3d0f5273",
   "metadata": {
    "execution": {
     "iopub.execute_input": "2024-02-04T01:59:16.709922Z",
     "iopub.status.busy": "2024-02-04T01:59:16.709483Z",
     "iopub.status.idle": "2024-02-04T01:59:16.718062Z",
     "shell.execute_reply": "2024-02-04T01:59:16.716232Z"
    },
    "papermill": {
     "duration": 0.022328,
     "end_time": "2024-02-04T01:59:16.720009",
     "exception": false,
     "start_time": "2024-02-04T01:59:16.697681",
     "status": "completed"
    },
    "tags": []
   },
   "outputs": [],
   "source": [
    "df_analise['ESCMAE'].fillna('8 a 11 anos', inplace=True)"
   ]
  },
  {
   "cell_type": "code",
   "execution_count": 26,
   "id": "06e4ac0a",
   "metadata": {
    "execution": {
     "iopub.execute_input": "2024-02-04T01:59:16.741845Z",
     "iopub.status.busy": "2024-02-04T01:59:16.741486Z",
     "iopub.status.idle": "2024-02-04T01:59:16.749737Z",
     "shell.execute_reply": "2024-02-04T01:59:16.748411Z"
    },
    "papermill": {
     "duration": 0.021934,
     "end_time": "2024-02-04T01:59:16.752388",
     "exception": false,
     "start_time": "2024-02-04T01:59:16.730454",
     "status": "completed"
    },
    "tags": []
   },
   "outputs": [],
   "source": [
    "df_analise['GESTACAO'].fillna('37 a 41 semanas', inplace=True)"
   ]
  },
  {
   "cell_type": "code",
   "execution_count": 27,
   "id": "6df8e981",
   "metadata": {
    "execution": {
     "iopub.execute_input": "2024-02-04T01:59:16.775977Z",
     "iopub.status.busy": "2024-02-04T01:59:16.775553Z",
     "iopub.status.idle": "2024-02-04T01:59:16.783457Z",
     "shell.execute_reply": "2024-02-04T01:59:16.782240Z"
    },
    "papermill": {
     "duration": 0.022279,
     "end_time": "2024-02-04T01:59:16.785813",
     "exception": false,
     "start_time": "2024-02-04T01:59:16.763534",
     "status": "completed"
    },
    "tags": []
   },
   "outputs": [],
   "source": [
    "df_analise['GRAVIDEZ'].fillna('Única', inplace=True)"
   ]
  },
  {
   "cell_type": "code",
   "execution_count": 28,
   "id": "5fa0e44c",
   "metadata": {
    "execution": {
     "iopub.execute_input": "2024-02-04T01:59:16.809163Z",
     "iopub.status.busy": "2024-02-04T01:59:16.808735Z",
     "iopub.status.idle": "2024-02-04T01:59:16.819624Z",
     "shell.execute_reply": "2024-02-04T01:59:16.818825Z"
    },
    "papermill": {
     "duration": 0.025397,
     "end_time": "2024-02-04T01:59:16.822043",
     "exception": false,
     "start_time": "2024-02-04T01:59:16.796646",
     "status": "completed"
    },
    "tags": []
   },
   "outputs": [
    {
     "data": {
      "text/plain": [
       "LOCNASC       0\n",
       "IDADEMAE      0\n",
       "ESTCIVMAE     0\n",
       "ESCMAE        0\n",
       "QTDFILVIVO    0\n",
       "GESTACAO      0\n",
       "GRAVIDEZ      0\n",
       "CONSULTAS     0\n",
       "APGAR5        0\n",
       "dtype: int64"
      ]
     },
     "execution_count": 28,
     "metadata": {},
     "output_type": "execute_result"
    }
   ],
   "source": [
    "# Verificação\n",
    "df_analise.isna().sum()"
   ]
  },
  {
   "cell_type": "code",
   "execution_count": 29,
   "id": "ae14b8d0",
   "metadata": {
    "execution": {
     "iopub.execute_input": "2024-02-04T01:59:16.844731Z",
     "iopub.status.busy": "2024-02-04T01:59:16.844394Z",
     "iopub.status.idle": "2024-02-04T01:59:16.850628Z",
     "shell.execute_reply": "2024-02-04T01:59:16.849644Z"
    },
    "papermill": {
     "duration": 0.019744,
     "end_time": "2024-02-04T01:59:16.852579",
     "exception": false,
     "start_time": "2024-02-04T01:59:16.832835",
     "status": "completed"
    },
    "tags": []
   },
   "outputs": [],
   "source": [
    "# Criando um novo Data_Frame, conservando as últimos modificações no DataFrame 'df_analise'\n",
    "df_definitivo = df_analise.copy()"
   ]
  },
  {
   "cell_type": "code",
   "execution_count": 30,
   "id": "9ac89be3",
   "metadata": {
    "execution": {
     "iopub.execute_input": "2024-02-04T01:59:16.876309Z",
     "iopub.status.busy": "2024-02-04T01:59:16.875963Z",
     "iopub.status.idle": "2024-02-04T01:59:16.883645Z",
     "shell.execute_reply": "2024-02-04T01:59:16.882615Z"
    },
    "papermill": {
     "duration": 0.022031,
     "end_time": "2024-02-04T01:59:16.885878",
     "exception": false,
     "start_time": "2024-02-04T01:59:16.863847",
     "status": "completed"
    },
    "tags": []
   },
   "outputs": [
    {
     "data": {
      "text/plain": [
       "array([10.,  9.,  7.,  0.,  8.,  4.,  3.,  6.,  5.,  2.,  1.])"
      ]
     },
     "execution_count": 30,
     "metadata": {},
     "output_type": "execute_result"
    }
   ],
   "source": [
    "df_definitivo['APGAR5'].unique()"
   ]
  },
  {
   "cell_type": "code",
   "execution_count": 31,
   "id": "814259bd",
   "metadata": {
    "execution": {
     "iopub.execute_input": "2024-02-04T01:59:16.910332Z",
     "iopub.status.busy": "2024-02-04T01:59:16.910022Z",
     "iopub.status.idle": "2024-02-04T01:59:16.920830Z",
     "shell.execute_reply": "2024-02-04T01:59:16.919849Z"
    },
    "papermill": {
     "duration": 0.025236,
     "end_time": "2024-02-04T01:59:16.923102",
     "exception": false,
     "start_time": "2024-02-04T01:59:16.897866",
     "status": "completed"
    },
    "tags": []
   },
   "outputs": [
    {
     "data": {
      "text/plain": [
       "9.0     16076\n",
       "10.0     8393\n",
       "8.0      1994\n",
       "7.0       241\n",
       "6.0        79\n",
       "5.0        45\n",
       "1.0        24\n",
       "4.0        23\n",
       "2.0        18\n",
       "0.0        17\n",
       "3.0        15\n",
       "Name: APGAR5, dtype: int64"
      ]
     },
     "execution_count": 31,
     "metadata": {},
     "output_type": "execute_result"
    }
   ],
   "source": [
    "# Distribuição dos dados\n",
    "df_definitivo['APGAR5'].value_counts()"
   ]
  },
  {
   "cell_type": "code",
   "execution_count": 32,
   "id": "dd91f3f7",
   "metadata": {
    "execution": {
     "iopub.execute_input": "2024-02-04T01:59:16.947835Z",
     "iopub.status.busy": "2024-02-04T01:59:16.947404Z",
     "iopub.status.idle": "2024-02-04T01:59:16.961106Z",
     "shell.execute_reply": "2024-02-04T01:59:16.960404Z"
    },
    "papermill": {
     "duration": 0.028658,
     "end_time": "2024-02-04T01:59:16.963126",
     "exception": false,
     "start_time": "2024-02-04T01:59:16.934468",
     "status": "completed"
    },
    "tags": []
   },
   "outputs": [],
   "source": [
    "# Categorização da variável 'APGAR5'\n",
    "df_definitivo.loc[(df_definitivo['APGAR5'] >= 0.0) & (df_definitivo['APGAR5'] <= 3.0), 'STATUSASFIX'] = 'asfixia severa'\n",
    "df_definitivo.loc[(df_definitivo['APGAR5'] >= 4.0) & (df_definitivo['APGAR5'] <= 5.0), 'STATUSASFIX'] = 'asfixia moderada'\n",
    "df_definitivo.loc[(df_definitivo['APGAR5'] >= 6.0) & (df_definitivo['APGAR5'] <= 7.0), 'STATUSASFIX'] = 'asfixia leve'\n",
    "df_definitivo.loc[(df_definitivo['APGAR5'] >= 8.0) & (df_definitivo['APGAR5'] <= 10.0), 'STATUSASFIX'] = 'normal'"
   ]
  },
  {
   "cell_type": "code",
   "execution_count": 33,
   "id": "2362ce2e",
   "metadata": {
    "execution": {
     "iopub.execute_input": "2024-02-04T01:59:16.986769Z",
     "iopub.status.busy": "2024-02-04T01:59:16.985849Z",
     "iopub.status.idle": "2024-02-04T01:59:16.995028Z",
     "shell.execute_reply": "2024-02-04T01:59:16.993360Z"
    },
    "papermill": {
     "duration": 0.023141,
     "end_time": "2024-02-04T01:59:16.997148",
     "exception": false,
     "start_time": "2024-02-04T01:59:16.974007",
     "status": "completed"
    },
    "tags": []
   },
   "outputs": [
    {
     "data": {
      "text/plain": [
       "array(['normal', 'asfixia leve', 'asfixia severa', 'asfixia moderada'],\n",
       "      dtype=object)"
      ]
     },
     "execution_count": 33,
     "metadata": {},
     "output_type": "execute_result"
    }
   ],
   "source": [
    "# Não há dados nulos na variável 'STATUSASFIX'\n",
    "df_definitivo['STATUSASFIX'].unique()"
   ]
  },
  {
   "cell_type": "code",
   "execution_count": 34,
   "id": "c3883574",
   "metadata": {
    "execution": {
     "iopub.execute_input": "2024-02-04T01:59:17.021677Z",
     "iopub.status.busy": "2024-02-04T01:59:17.021308Z",
     "iopub.status.idle": "2024-02-04T01:59:17.039472Z",
     "shell.execute_reply": "2024-02-04T01:59:17.038428Z"
    },
    "papermill": {
     "duration": 0.032828,
     "end_time": "2024-02-04T01:59:17.041519",
     "exception": false,
     "start_time": "2024-02-04T01:59:17.008691",
     "status": "completed"
    },
    "tags": []
   },
   "outputs": [
    {
     "data": {
      "text/html": [
       "<div>\n",
       "<style scoped>\n",
       "    .dataframe tbody tr th:only-of-type {\n",
       "        vertical-align: middle;\n",
       "    }\n",
       "\n",
       "    .dataframe tbody tr th {\n",
       "        vertical-align: top;\n",
       "    }\n",
       "\n",
       "    .dataframe thead th {\n",
       "        text-align: right;\n",
       "    }\n",
       "</style>\n",
       "<table border=\"1\" class=\"dataframe\">\n",
       "  <thead>\n",
       "    <tr style=\"text-align: right;\">\n",
       "      <th></th>\n",
       "      <th>LOCNASC</th>\n",
       "      <th>IDADEMAE</th>\n",
       "      <th>ESTCIVMAE</th>\n",
       "      <th>ESCMAE</th>\n",
       "      <th>QTDFILVIVO</th>\n",
       "      <th>GESTACAO</th>\n",
       "      <th>GRAVIDEZ</th>\n",
       "      <th>CONSULTAS</th>\n",
       "      <th>APGAR5</th>\n",
       "      <th>STATUSASFIX</th>\n",
       "    </tr>\n",
       "  </thead>\n",
       "  <tbody>\n",
       "    <tr>\n",
       "      <th>205</th>\n",
       "      <td>1</td>\n",
       "      <td>28</td>\n",
       "      <td>2.0</td>\n",
       "      <td>4 a 7 anos</td>\n",
       "      <td>2.0</td>\n",
       "      <td>37 a 41 semanas</td>\n",
       "      <td>Única</td>\n",
       "      <td>3</td>\n",
       "      <td>6.0</td>\n",
       "      <td>asfixia leve</td>\n",
       "    </tr>\n",
       "    <tr>\n",
       "      <th>289</th>\n",
       "      <td>1</td>\n",
       "      <td>25</td>\n",
       "      <td>5.0</td>\n",
       "      <td>8 a 11 anos</td>\n",
       "      <td>1.0</td>\n",
       "      <td>37 a 41 semanas</td>\n",
       "      <td>Única</td>\n",
       "      <td>4</td>\n",
       "      <td>6.0</td>\n",
       "      <td>asfixia leve</td>\n",
       "    </tr>\n",
       "    <tr>\n",
       "      <th>407</th>\n",
       "      <td>1</td>\n",
       "      <td>29</td>\n",
       "      <td>2.0</td>\n",
       "      <td>12 anos ou mais</td>\n",
       "      <td>0.0</td>\n",
       "      <td>28 a 31 semanas</td>\n",
       "      <td>Única</td>\n",
       "      <td>3</td>\n",
       "      <td>6.0</td>\n",
       "      <td>asfixia leve</td>\n",
       "    </tr>\n",
       "    <tr>\n",
       "      <th>449</th>\n",
       "      <td>1</td>\n",
       "      <td>24</td>\n",
       "      <td>2.0</td>\n",
       "      <td>12 anos ou mais</td>\n",
       "      <td>0.0</td>\n",
       "      <td>28 a 31 semanas</td>\n",
       "      <td>Única</td>\n",
       "      <td>2</td>\n",
       "      <td>6.0</td>\n",
       "      <td>asfixia leve</td>\n",
       "    </tr>\n",
       "    <tr>\n",
       "      <th>544</th>\n",
       "      <td>1</td>\n",
       "      <td>37</td>\n",
       "      <td>1.0</td>\n",
       "      <td>12 anos ou mais</td>\n",
       "      <td>0.0</td>\n",
       "      <td>37 a 41 semanas</td>\n",
       "      <td>Única</td>\n",
       "      <td>3</td>\n",
       "      <td>6.0</td>\n",
       "      <td>asfixia leve</td>\n",
       "    </tr>\n",
       "    <tr>\n",
       "      <th>...</th>\n",
       "      <td>...</td>\n",
       "      <td>...</td>\n",
       "      <td>...</td>\n",
       "      <td>...</td>\n",
       "      <td>...</td>\n",
       "      <td>...</td>\n",
       "      <td>...</td>\n",
       "      <td>...</td>\n",
       "      <td>...</td>\n",
       "      <td>...</td>\n",
       "    </tr>\n",
       "    <tr>\n",
       "      <th>26620</th>\n",
       "      <td>1</td>\n",
       "      <td>28</td>\n",
       "      <td>2.0</td>\n",
       "      <td>12 anos ou mais</td>\n",
       "      <td>1.0</td>\n",
       "      <td>22 a 27 semanas</td>\n",
       "      <td>Única</td>\n",
       "      <td>4</td>\n",
       "      <td>6.0</td>\n",
       "      <td>asfixia leve</td>\n",
       "    </tr>\n",
       "    <tr>\n",
       "      <th>26637</th>\n",
       "      <td>1</td>\n",
       "      <td>23</td>\n",
       "      <td>2.0</td>\n",
       "      <td>8 a 11 anos</td>\n",
       "      <td>0.0</td>\n",
       "      <td>37 a 41 semanas</td>\n",
       "      <td>Única</td>\n",
       "      <td>4</td>\n",
       "      <td>6.0</td>\n",
       "      <td>asfixia leve</td>\n",
       "    </tr>\n",
       "    <tr>\n",
       "      <th>26728</th>\n",
       "      <td>1</td>\n",
       "      <td>31</td>\n",
       "      <td>5.0</td>\n",
       "      <td>8 a 11 anos</td>\n",
       "      <td>2.0</td>\n",
       "      <td>37 a 41 semanas</td>\n",
       "      <td>Única</td>\n",
       "      <td>4</td>\n",
       "      <td>6.0</td>\n",
       "      <td>asfixia leve</td>\n",
       "    </tr>\n",
       "    <tr>\n",
       "      <th>26893</th>\n",
       "      <td>1</td>\n",
       "      <td>21</td>\n",
       "      <td>5.0</td>\n",
       "      <td>1 a 3 anos</td>\n",
       "      <td>4.0</td>\n",
       "      <td>37 a 41 semanas</td>\n",
       "      <td>Única</td>\n",
       "      <td>2</td>\n",
       "      <td>6.0</td>\n",
       "      <td>asfixia leve</td>\n",
       "    </tr>\n",
       "    <tr>\n",
       "      <th>26921</th>\n",
       "      <td>1</td>\n",
       "      <td>20</td>\n",
       "      <td>1.0</td>\n",
       "      <td>4 a 7 anos</td>\n",
       "      <td>1.0</td>\n",
       "      <td>37 a 41 semanas</td>\n",
       "      <td>Única</td>\n",
       "      <td>3</td>\n",
       "      <td>6.0</td>\n",
       "      <td>asfixia leve</td>\n",
       "    </tr>\n",
       "  </tbody>\n",
       "</table>\n",
       "<p>79 rows × 10 columns</p>\n",
       "</div>"
      ],
      "text/plain": [
       "       LOCNASC  IDADEMAE  ESTCIVMAE           ESCMAE  QTDFILVIVO  \\\n",
       "205          1        28        2.0       4 a 7 anos         2.0   \n",
       "289          1        25        5.0      8 a 11 anos         1.0   \n",
       "407          1        29        2.0  12 anos ou mais         0.0   \n",
       "449          1        24        2.0  12 anos ou mais         0.0   \n",
       "544          1        37        1.0  12 anos ou mais         0.0   \n",
       "...        ...       ...        ...              ...         ...   \n",
       "26620        1        28        2.0  12 anos ou mais         1.0   \n",
       "26637        1        23        2.0      8 a 11 anos         0.0   \n",
       "26728        1        31        5.0      8 a 11 anos         2.0   \n",
       "26893        1        21        5.0       1 a 3 anos         4.0   \n",
       "26921        1        20        1.0       4 a 7 anos         1.0   \n",
       "\n",
       "              GESTACAO GRAVIDEZ  CONSULTAS  APGAR5   STATUSASFIX  \n",
       "205    37 a 41 semanas    Única          3     6.0  asfixia leve  \n",
       "289    37 a 41 semanas    Única          4     6.0  asfixia leve  \n",
       "407    28 a 31 semanas    Única          3     6.0  asfixia leve  \n",
       "449    28 a 31 semanas    Única          2     6.0  asfixia leve  \n",
       "544    37 a 41 semanas    Única          3     6.0  asfixia leve  \n",
       "...                ...      ...        ...     ...           ...  \n",
       "26620  22 a 27 semanas    Única          4     6.0  asfixia leve  \n",
       "26637  37 a 41 semanas    Única          4     6.0  asfixia leve  \n",
       "26728  37 a 41 semanas    Única          4     6.0  asfixia leve  \n",
       "26893  37 a 41 semanas    Única          2     6.0  asfixia leve  \n",
       "26921  37 a 41 semanas    Única          3     6.0  asfixia leve  \n",
       "\n",
       "[79 rows x 10 columns]"
      ]
     },
     "execution_count": 34,
     "metadata": {},
     "output_type": "execute_result"
    }
   ],
   "source": [
    "# Verificação\n",
    "df_definitivo.loc[df_definitivo['APGAR5'] == 6.0, :]"
   ]
  }
 ],
 "metadata": {
  "kaggle": {
   "accelerator": "none",
   "dataSources": [
    {
     "datasetId": 4396497,
     "sourceId": 7548982,
     "sourceType": "datasetVersion"
    }
   ],
   "dockerImageVersionId": 30646,
   "isGpuEnabled": false,
   "isInternetEnabled": true,
   "language": "python",
   "sourceType": "notebook"
  },
  "kernelspec": {
   "display_name": "Python 3 (ipykernel)",
   "language": "python",
   "name": "python3"
  },
  "language_info": {
   "codemirror_mode": {
    "name": "ipython",
    "version": 3
   },
   "file_extension": ".py",
   "mimetype": "text/x-python",
   "name": "python",
   "nbconvert_exporter": "python",
   "pygments_lexer": "ipython3",
   "version": "3.9.13"
  },
  "papermill": {
   "default_parameters": {},
   "duration": 5.508423,
   "end_time": "2024-02-04T01:59:17.572903",
   "environment_variables": {},
   "exception": null,
   "input_path": "__notebook__.ipynb",
   "output_path": "__notebook__.ipynb",
   "parameters": {},
   "start_time": "2024-02-04T01:59:12.064480",
   "version": "2.5.0"
  }
 },
 "nbformat": 4,
 "nbformat_minor": 5
}
